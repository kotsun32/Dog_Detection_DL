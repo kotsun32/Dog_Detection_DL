{
  "nbformat": 4,
  "nbformat_minor": 0,
  "metadata": {
    "colab": {
      "name": "NN_Dog_Detection.ipynb",
      "provenance": [],
      "mount_file_id": "1HMGndK3vMetmC3ouUVqNIFnOukQNCOyK",
      "authorship_tag": "ABX9TyOjrn+SLD73t2CtigUWv+z4",
      "include_colab_link": true
    },
    "kernelspec": {
      "name": "python3",
      "display_name": "Python 3"
    },
    "language_info": {
      "name": "python"
    },
    "accelerator": "GPU"
  },
  "cells": [
    {
      "cell_type": "markdown",
      "metadata": {
        "id": "view-in-github",
        "colab_type": "text"
      },
      "source": [
        "<a href=\"https://colab.research.google.com/github/kotsun32/Dog_Detection_DL/blob/main/NN_Dog_Detection.ipynb\" target=\"_parent\"><img src=\"https://colab.research.google.com/assets/colab-badge.svg\" alt=\"Open In Colab\"/></a>"
      ]
    },
    {
      "cell_type": "code",
      "execution_count": null,
      "metadata": {
        "id": "Ruojm2s1NFf9"
      },
      "outputs": [],
      "source": [
        "import tensorflow as tf\n",
        "import tensorflow_hub as hub\n",
        "import pandas as pd\n",
        "import numpy as np\n",
        "from IPython.display import Image\n",
        "import os\n",
        "from matplotlib.pyplot import imread"
      ]
    },
    {
      "cell_type": "code",
      "source": [
        "print(\"GPU\", \"available(YESSS!)\" if tf.config.list_physical_devices(\"GPU\") else \"Not available\")"
      ],
      "metadata": {
        "colab": {
          "base_uri": "https://localhost:8080/"
        },
        "id": "y02TnOKzN5rh",
        "outputId": "d04fc84d-61bd-45a2-e485-e8cd8864ecaf"
      },
      "execution_count": null,
      "outputs": [
        {
          "output_type": "stream",
          "name": "stdout",
          "text": [
            "GPU available(YESSS!)\n"
          ]
        }
      ]
    },
    {
      "cell_type": "code",
      "source": [
        "!unzip \"/content/drive/MyDrive/Dog_Detection/dog-breed-identification (1).zip\" -d \"/content/drive/MyDrive/Dog_Detection\""
      ],
      "metadata": {
        "id": "0God7yQAOGKV",
        "colab": {
          "base_uri": "https://localhost:8080/"
        },
        "outputId": "19d2655d-e5ba-469c-8867-6cdc04588e6e"
      },
      "execution_count": null,
      "outputs": [
        {
          "output_type": "stream",
          "name": "stdout",
          "text": [
            "unzip:  cannot find or open /content/drive/MyDrive/Dog_Detection/dog-breed-identification (1).zip, /content/drive/MyDrive/Dog_Detection/dog-breed-identification (1).zip.zip or /content/drive/MyDrive/Dog_Detection/dog-breed-identification (1).zip.ZIP.\n"
          ]
        }
      ]
    },
    {
      "cell_type": "code",
      "source": [
        "labels_csv = pd.read_csv(\"/content/drive/MyDrive/DogVision/dog-breed-identification/labels.csv\")"
      ],
      "metadata": {
        "id": "42Ygenl3ShHV"
      },
      "execution_count": null,
      "outputs": []
    },
    {
      "cell_type": "code",
      "source": [
        "labels_csv.head()"
      ],
      "metadata": {
        "colab": {
          "base_uri": "https://localhost:8080/",
          "height": 206
        },
        "id": "RO_pISe8VakY",
        "outputId": "01937cee-47c7-45c8-816a-5461f7aca4ea"
      },
      "execution_count": null,
      "outputs": [
        {
          "output_type": "execute_result",
          "data": {
            "text/plain": [
              "                                 id             breed\n",
              "0  000bec180eb18c7604dcecc8fe0dba07       boston_bull\n",
              "1  001513dfcb2ffafc82cccf4d8bbaba97             dingo\n",
              "2  001cdf01b096e06d78e9e5112d419397          pekinese\n",
              "3  00214f311d5d2247d5dfe4fe24b2303d          bluetick\n",
              "4  0021f9ceb3235effd7fcde7f7538ed62  golden_retriever"
            ],
            "text/html": [
              "\n",
              "  <div id=\"df-52044ac3-72f1-46c4-b6ee-0a6b832e7df3\">\n",
              "    <div class=\"colab-df-container\">\n",
              "      <div>\n",
              "<style scoped>\n",
              "    .dataframe tbody tr th:only-of-type {\n",
              "        vertical-align: middle;\n",
              "    }\n",
              "\n",
              "    .dataframe tbody tr th {\n",
              "        vertical-align: top;\n",
              "    }\n",
              "\n",
              "    .dataframe thead th {\n",
              "        text-align: right;\n",
              "    }\n",
              "</style>\n",
              "<table border=\"1\" class=\"dataframe\">\n",
              "  <thead>\n",
              "    <tr style=\"text-align: right;\">\n",
              "      <th></th>\n",
              "      <th>id</th>\n",
              "      <th>breed</th>\n",
              "    </tr>\n",
              "  </thead>\n",
              "  <tbody>\n",
              "    <tr>\n",
              "      <th>0</th>\n",
              "      <td>000bec180eb18c7604dcecc8fe0dba07</td>\n",
              "      <td>boston_bull</td>\n",
              "    </tr>\n",
              "    <tr>\n",
              "      <th>1</th>\n",
              "      <td>001513dfcb2ffafc82cccf4d8bbaba97</td>\n",
              "      <td>dingo</td>\n",
              "    </tr>\n",
              "    <tr>\n",
              "      <th>2</th>\n",
              "      <td>001cdf01b096e06d78e9e5112d419397</td>\n",
              "      <td>pekinese</td>\n",
              "    </tr>\n",
              "    <tr>\n",
              "      <th>3</th>\n",
              "      <td>00214f311d5d2247d5dfe4fe24b2303d</td>\n",
              "      <td>bluetick</td>\n",
              "    </tr>\n",
              "    <tr>\n",
              "      <th>4</th>\n",
              "      <td>0021f9ceb3235effd7fcde7f7538ed62</td>\n",
              "      <td>golden_retriever</td>\n",
              "    </tr>\n",
              "  </tbody>\n",
              "</table>\n",
              "</div>\n",
              "      <button class=\"colab-df-convert\" onclick=\"convertToInteractive('df-52044ac3-72f1-46c4-b6ee-0a6b832e7df3')\"\n",
              "              title=\"Convert this dataframe to an interactive table.\"\n",
              "              style=\"display:none;\">\n",
              "        \n",
              "  <svg xmlns=\"http://www.w3.org/2000/svg\" height=\"24px\"viewBox=\"0 0 24 24\"\n",
              "       width=\"24px\">\n",
              "    <path d=\"M0 0h24v24H0V0z\" fill=\"none\"/>\n",
              "    <path d=\"M18.56 5.44l.94 2.06.94-2.06 2.06-.94-2.06-.94-.94-2.06-.94 2.06-2.06.94zm-11 1L8.5 8.5l.94-2.06 2.06-.94-2.06-.94L8.5 2.5l-.94 2.06-2.06.94zm10 10l.94 2.06.94-2.06 2.06-.94-2.06-.94-.94-2.06-.94 2.06-2.06.94z\"/><path d=\"M17.41 7.96l-1.37-1.37c-.4-.4-.92-.59-1.43-.59-.52 0-1.04.2-1.43.59L10.3 9.45l-7.72 7.72c-.78.78-.78 2.05 0 2.83L4 21.41c.39.39.9.59 1.41.59.51 0 1.02-.2 1.41-.59l7.78-7.78 2.81-2.81c.8-.78.8-2.07 0-2.86zM5.41 20L4 18.59l7.72-7.72 1.47 1.35L5.41 20z\"/>\n",
              "  </svg>\n",
              "      </button>\n",
              "      \n",
              "  <style>\n",
              "    .colab-df-container {\n",
              "      display:flex;\n",
              "      flex-wrap:wrap;\n",
              "      gap: 12px;\n",
              "    }\n",
              "\n",
              "    .colab-df-convert {\n",
              "      background-color: #E8F0FE;\n",
              "      border: none;\n",
              "      border-radius: 50%;\n",
              "      cursor: pointer;\n",
              "      display: none;\n",
              "      fill: #1967D2;\n",
              "      height: 32px;\n",
              "      padding: 0 0 0 0;\n",
              "      width: 32px;\n",
              "    }\n",
              "\n",
              "    .colab-df-convert:hover {\n",
              "      background-color: #E2EBFA;\n",
              "      box-shadow: 0px 1px 2px rgba(60, 64, 67, 0.3), 0px 1px 3px 1px rgba(60, 64, 67, 0.15);\n",
              "      fill: #174EA6;\n",
              "    }\n",
              "\n",
              "    [theme=dark] .colab-df-convert {\n",
              "      background-color: #3B4455;\n",
              "      fill: #D2E3FC;\n",
              "    }\n",
              "\n",
              "    [theme=dark] .colab-df-convert:hover {\n",
              "      background-color: #434B5C;\n",
              "      box-shadow: 0px 1px 3px 1px rgba(0, 0, 0, 0.15);\n",
              "      filter: drop-shadow(0px 1px 2px rgba(0, 0, 0, 0.3));\n",
              "      fill: #FFFFFF;\n",
              "    }\n",
              "  </style>\n",
              "\n",
              "      <script>\n",
              "        const buttonEl =\n",
              "          document.querySelector('#df-52044ac3-72f1-46c4-b6ee-0a6b832e7df3 button.colab-df-convert');\n",
              "        buttonEl.style.display =\n",
              "          google.colab.kernel.accessAllowed ? 'block' : 'none';\n",
              "\n",
              "        async function convertToInteractive(key) {\n",
              "          const element = document.querySelector('#df-52044ac3-72f1-46c4-b6ee-0a6b832e7df3');\n",
              "          const dataTable =\n",
              "            await google.colab.kernel.invokeFunction('convertToInteractive',\n",
              "                                                     [key], {});\n",
              "          if (!dataTable) return;\n",
              "\n",
              "          const docLinkHtml = 'Like what you see? Visit the ' +\n",
              "            '<a target=\"_blank\" href=https://colab.research.google.com/notebooks/data_table.ipynb>data table notebook</a>'\n",
              "            + ' to learn more about interactive tables.';\n",
              "          element.innerHTML = '';\n",
              "          dataTable['output_type'] = 'display_data';\n",
              "          await google.colab.output.renderOutput(dataTable, element);\n",
              "          const docLink = document.createElement('div');\n",
              "          docLink.innerHTML = docLinkHtml;\n",
              "          element.appendChild(docLink);\n",
              "        }\n",
              "      </script>\n",
              "    </div>\n",
              "  </div>\n",
              "  "
            ]
          },
          "metadata": {},
          "execution_count": 10
        }
      ]
    },
    {
      "cell_type": "code",
      "source": [
        "labels_csv.describe()"
      ],
      "metadata": {
        "colab": {
          "base_uri": "https://localhost:8080/",
          "height": 175
        },
        "id": "wP7p2071Vcgt",
        "outputId": "7ebfbf14-cdec-4b53-9575-5618d76724ae"
      },
      "execution_count": null,
      "outputs": [
        {
          "output_type": "execute_result",
          "data": {
            "text/plain": [
              "                                      id               breed\n",
              "count                              10222               10222\n",
              "unique                             10222                 120\n",
              "top     000bec180eb18c7604dcecc8fe0dba07  scottish_deerhound\n",
              "freq                                   1                 126"
            ],
            "text/html": [
              "\n",
              "  <div id=\"df-4570d71f-fd74-4671-904e-eb2f0b8218c9\">\n",
              "    <div class=\"colab-df-container\">\n",
              "      <div>\n",
              "<style scoped>\n",
              "    .dataframe tbody tr th:only-of-type {\n",
              "        vertical-align: middle;\n",
              "    }\n",
              "\n",
              "    .dataframe tbody tr th {\n",
              "        vertical-align: top;\n",
              "    }\n",
              "\n",
              "    .dataframe thead th {\n",
              "        text-align: right;\n",
              "    }\n",
              "</style>\n",
              "<table border=\"1\" class=\"dataframe\">\n",
              "  <thead>\n",
              "    <tr style=\"text-align: right;\">\n",
              "      <th></th>\n",
              "      <th>id</th>\n",
              "      <th>breed</th>\n",
              "    </tr>\n",
              "  </thead>\n",
              "  <tbody>\n",
              "    <tr>\n",
              "      <th>count</th>\n",
              "      <td>10222</td>\n",
              "      <td>10222</td>\n",
              "    </tr>\n",
              "    <tr>\n",
              "      <th>unique</th>\n",
              "      <td>10222</td>\n",
              "      <td>120</td>\n",
              "    </tr>\n",
              "    <tr>\n",
              "      <th>top</th>\n",
              "      <td>000bec180eb18c7604dcecc8fe0dba07</td>\n",
              "      <td>scottish_deerhound</td>\n",
              "    </tr>\n",
              "    <tr>\n",
              "      <th>freq</th>\n",
              "      <td>1</td>\n",
              "      <td>126</td>\n",
              "    </tr>\n",
              "  </tbody>\n",
              "</table>\n",
              "</div>\n",
              "      <button class=\"colab-df-convert\" onclick=\"convertToInteractive('df-4570d71f-fd74-4671-904e-eb2f0b8218c9')\"\n",
              "              title=\"Convert this dataframe to an interactive table.\"\n",
              "              style=\"display:none;\">\n",
              "        \n",
              "  <svg xmlns=\"http://www.w3.org/2000/svg\" height=\"24px\"viewBox=\"0 0 24 24\"\n",
              "       width=\"24px\">\n",
              "    <path d=\"M0 0h24v24H0V0z\" fill=\"none\"/>\n",
              "    <path d=\"M18.56 5.44l.94 2.06.94-2.06 2.06-.94-2.06-.94-.94-2.06-.94 2.06-2.06.94zm-11 1L8.5 8.5l.94-2.06 2.06-.94-2.06-.94L8.5 2.5l-.94 2.06-2.06.94zm10 10l.94 2.06.94-2.06 2.06-.94-2.06-.94-.94-2.06-.94 2.06-2.06.94z\"/><path d=\"M17.41 7.96l-1.37-1.37c-.4-.4-.92-.59-1.43-.59-.52 0-1.04.2-1.43.59L10.3 9.45l-7.72 7.72c-.78.78-.78 2.05 0 2.83L4 21.41c.39.39.9.59 1.41.59.51 0 1.02-.2 1.41-.59l7.78-7.78 2.81-2.81c.8-.78.8-2.07 0-2.86zM5.41 20L4 18.59l7.72-7.72 1.47 1.35L5.41 20z\"/>\n",
              "  </svg>\n",
              "      </button>\n",
              "      \n",
              "  <style>\n",
              "    .colab-df-container {\n",
              "      display:flex;\n",
              "      flex-wrap:wrap;\n",
              "      gap: 12px;\n",
              "    }\n",
              "\n",
              "    .colab-df-convert {\n",
              "      background-color: #E8F0FE;\n",
              "      border: none;\n",
              "      border-radius: 50%;\n",
              "      cursor: pointer;\n",
              "      display: none;\n",
              "      fill: #1967D2;\n",
              "      height: 32px;\n",
              "      padding: 0 0 0 0;\n",
              "      width: 32px;\n",
              "    }\n",
              "\n",
              "    .colab-df-convert:hover {\n",
              "      background-color: #E2EBFA;\n",
              "      box-shadow: 0px 1px 2px rgba(60, 64, 67, 0.3), 0px 1px 3px 1px rgba(60, 64, 67, 0.15);\n",
              "      fill: #174EA6;\n",
              "    }\n",
              "\n",
              "    [theme=dark] .colab-df-convert {\n",
              "      background-color: #3B4455;\n",
              "      fill: #D2E3FC;\n",
              "    }\n",
              "\n",
              "    [theme=dark] .colab-df-convert:hover {\n",
              "      background-color: #434B5C;\n",
              "      box-shadow: 0px 1px 3px 1px rgba(0, 0, 0, 0.15);\n",
              "      filter: drop-shadow(0px 1px 2px rgba(0, 0, 0, 0.3));\n",
              "      fill: #FFFFFF;\n",
              "    }\n",
              "  </style>\n",
              "\n",
              "      <script>\n",
              "        const buttonEl =\n",
              "          document.querySelector('#df-4570d71f-fd74-4671-904e-eb2f0b8218c9 button.colab-df-convert');\n",
              "        buttonEl.style.display =\n",
              "          google.colab.kernel.accessAllowed ? 'block' : 'none';\n",
              "\n",
              "        async function convertToInteractive(key) {\n",
              "          const element = document.querySelector('#df-4570d71f-fd74-4671-904e-eb2f0b8218c9');\n",
              "          const dataTable =\n",
              "            await google.colab.kernel.invokeFunction('convertToInteractive',\n",
              "                                                     [key], {});\n",
              "          if (!dataTable) return;\n",
              "\n",
              "          const docLinkHtml = 'Like what you see? Visit the ' +\n",
              "            '<a target=\"_blank\" href=https://colab.research.google.com/notebooks/data_table.ipynb>data table notebook</a>'\n",
              "            + ' to learn more about interactive tables.';\n",
              "          element.innerHTML = '';\n",
              "          dataTable['output_type'] = 'display_data';\n",
              "          await google.colab.output.renderOutput(dataTable, element);\n",
              "          const docLink = document.createElement('div');\n",
              "          docLink.innerHTML = docLinkHtml;\n",
              "          element.appendChild(docLink);\n",
              "        }\n",
              "      </script>\n",
              "    </div>\n",
              "  </div>\n",
              "  "
            ]
          },
          "metadata": {},
          "execution_count": 11
        }
      ]
    },
    {
      "cell_type": "code",
      "source": [
        "labels_csv.breed.value_counts()\n"
      ],
      "metadata": {
        "colab": {
          "base_uri": "https://localhost:8080/"
        },
        "id": "HTKUWNE_Vk0g",
        "outputId": "faaeeb16-2367-431e-bc96-cf107997e098"
      },
      "execution_count": null,
      "outputs": [
        {
          "output_type": "execute_result",
          "data": {
            "text/plain": [
              "scottish_deerhound      126\n",
              "maltese_dog             117\n",
              "afghan_hound            116\n",
              "entlebucher             115\n",
              "bernese_mountain_dog    114\n",
              "                       ... \n",
              "golden_retriever         67\n",
              "brabancon_griffon        67\n",
              "komondor                 67\n",
              "eskimo_dog               66\n",
              "briard                   66\n",
              "Name: breed, Length: 120, dtype: int64"
            ]
          },
          "metadata": {},
          "execution_count": 12
        }
      ]
    },
    {
      "cell_type": "code",
      "source": [
        "labels = labels_csv.breed"
      ],
      "metadata": {
        "id": "LZQfilhnaY3v"
      },
      "execution_count": null,
      "outputs": []
    },
    {
      "cell_type": "code",
      "source": [
        "filenames = [\"/content/drive/MyDrive/Dog_Detection/train/\" + fname + \".jpg\" for fname in labels_csv['id']]"
      ],
      "metadata": {
        "id": "e_R0No--bvJs"
      },
      "execution_count": null,
      "outputs": []
    },
    {
      "cell_type": "code",
      "source": [
        "filenames[:5]"
      ],
      "metadata": {
        "colab": {
          "base_uri": "https://localhost:8080/"
        },
        "id": "oAWzLnVwcES1",
        "outputId": "80259b49-fb23-4ba1-cc9d-ab8ee0a006c0"
      },
      "execution_count": null,
      "outputs": [
        {
          "output_type": "execute_result",
          "data": {
            "text/plain": [
              "['/content/drive/MyDrive/Dog_Detection/train000bec180eb18c7604dcecc8fe0dba07.jpg',\n",
              " '/content/drive/MyDrive/Dog_Detection/train001513dfcb2ffafc82cccf4d8bbaba97.jpg',\n",
              " '/content/drive/MyDrive/Dog_Detection/train001cdf01b096e06d78e9e5112d419397.jpg',\n",
              " '/content/drive/MyDrive/Dog_Detection/train00214f311d5d2247d5dfe4fe24b2303d.jpg',\n",
              " '/content/drive/MyDrive/Dog_Detection/train0021f9ceb3235effd7fcde7f7538ed62.jpg']"
            ]
          },
          "metadata": {},
          "execution_count": 15
        }
      ]
    },
    {
      "cell_type": "code",
      "source": [
        "Image(filenames[1])\n"
      ],
      "metadata": {
        "colab": {
          "base_uri": "https://localhost:8080/",
          "height": 392
        },
        "id": "HZGTTCf3codk",
        "outputId": "c69968c9-d88e-462f-8657-da00959e844f"
      },
      "execution_count": null,
      "outputs": [
        {
          "output_type": "execute_result",
          "data": {
            "text/plain": [
              "<IPython.core.display.Image object>"
            ],
            "image/jpeg": "[encoded data removed]"
          },
          "metadata": {},
          "execution_count": 46
        }
      ]
    },
    {
      "cell_type": "code",
      "source": [
        "Image(filenames[2])\n"
      ],
      "metadata": {
        "colab": {
          "base_uri": "https://localhost:8080/",
          "height": 392
        },
        "id": "072YPCUAc5Iz",
        "outputId": "7bd6e23a-0925-415f-8471-2ef22bdb2ade"
      },
      "execution_count": null,
      "outputs": [
        {
          "output_type": "execute_result",
          "data": {
            "text/plain": [
              "<IPython.core.display.Image object>"
            ],
            "image/jpeg": "[encoded data removed]"
          },
          "metadata": {},
          "execution_count": 47
        }
      ]
    },
    {
      "cell_type": "code",
      "source": [
        "Image(\"/content/drive/MyDrive/Dog_Detection/train/000bec180eb18c7604dcecc8fe0dba07.jpg\")"
      ],
      "metadata": {
        "id": "nr_uG_MceSqO",
        "colab": {
          "base_uri": "https://localhost:8080/",
          "height": 392
        },
        "outputId": "25b9b0eb-19a8-442b-8791-79e9bb74281d"
      },
      "execution_count": null,
      "outputs": [
        {
          "output_type": "execute_result",
          "data": {
            "text/plain": [
              "<IPython.core.display.Image object>"
            ],
            "image/jpeg": "[encoded data removed]"
          },
          "metadata": {},
          "execution_count": 44
        }
      ]
    },
    {
      "cell_type": "code",
      "source": [
        "labels = np.array(labels)\n",
        "labels\n"
      ],
      "metadata": {
        "colab": {
          "base_uri": "https://localhost:8080/"
        },
        "id": "ylioT_DSgI3G",
        "outputId": "5686bee0-d068-474b-a6b7-cdb32df0a5fe"
      },
      "execution_count": null,
      "outputs": [
        {
          "output_type": "execute_result",
          "data": {
            "text/plain": [
              "array(['boston_bull', 'dingo', 'pekinese', ..., 'airedale',\n",
              "       'miniature_pinscher', 'chesapeake_bay_retriever'], dtype=object)"
            ]
          },
          "metadata": {},
          "execution_count": 11
        }
      ]
    },
    {
      "cell_type": "code",
      "source": [
        "#np array of each category \n",
        "unique_breeds = np.unique(labels)\n",
        "unique_breeds"
      ],
      "metadata": {
        "colab": {
          "base_uri": "https://localhost:8080/"
        },
        "id": "Fcy-52iBo_w1",
        "outputId": "5997af54-c2f4-48fe-bcc4-130fafe28a99"
      },
      "execution_count": null,
      "outputs": [
        {
          "output_type": "execute_result",
          "data": {
            "text/plain": [
              "array(['affenpinscher', 'afghan_hound', 'african_hunting_dog', 'airedale',\n",
              "       'american_staffordshire_terrier', 'appenzeller',\n",
              "       'australian_terrier', 'basenji', 'basset', 'beagle',\n",
              "       'bedlington_terrier', 'bernese_mountain_dog',\n",
              "       'black-and-tan_coonhound', 'blenheim_spaniel', 'bloodhound',\n",
              "       'bluetick', 'border_collie', 'border_terrier', 'borzoi',\n",
              "       'boston_bull', 'bouvier_des_flandres', 'boxer',\n",
              "       'brabancon_griffon', 'briard', 'brittany_spaniel', 'bull_mastiff',\n",
              "       'cairn', 'cardigan', 'chesapeake_bay_retriever', 'chihuahua',\n",
              "       'chow', 'clumber', 'cocker_spaniel', 'collie',\n",
              "       'curly-coated_retriever', 'dandie_dinmont', 'dhole', 'dingo',\n",
              "       'doberman', 'english_foxhound', 'english_setter',\n",
              "       'english_springer', 'entlebucher', 'eskimo_dog',\n",
              "       'flat-coated_retriever', 'french_bulldog', 'german_shepherd',\n",
              "       'german_short-haired_pointer', 'giant_schnauzer',\n",
              "       'golden_retriever', 'gordon_setter', 'great_dane',\n",
              "       'great_pyrenees', 'greater_swiss_mountain_dog', 'groenendael',\n",
              "       'ibizan_hound', 'irish_setter', 'irish_terrier',\n",
              "       'irish_water_spaniel', 'irish_wolfhound', 'italian_greyhound',\n",
              "       'japanese_spaniel', 'keeshond', 'kelpie', 'kerry_blue_terrier',\n",
              "       'komondor', 'kuvasz', 'labrador_retriever', 'lakeland_terrier',\n",
              "       'leonberg', 'lhasa', 'malamute', 'malinois', 'maltese_dog',\n",
              "       'mexican_hairless', 'miniature_pinscher', 'miniature_poodle',\n",
              "       'miniature_schnauzer', 'newfoundland', 'norfolk_terrier',\n",
              "       'norwegian_elkhound', 'norwich_terrier', 'old_english_sheepdog',\n",
              "       'otterhound', 'papillon', 'pekinese', 'pembroke', 'pomeranian',\n",
              "       'pug', 'redbone', 'rhodesian_ridgeback', 'rottweiler',\n",
              "       'saint_bernard', 'saluki', 'samoyed', 'schipperke',\n",
              "       'scotch_terrier', 'scottish_deerhound', 'sealyham_terrier',\n",
              "       'shetland_sheepdog', 'shih-tzu', 'siberian_husky', 'silky_terrier',\n",
              "       'soft-coated_wheaten_terrier', 'staffordshire_bullterrier',\n",
              "       'standard_poodle', 'standard_schnauzer', 'sussex_spaniel',\n",
              "       'tibetan_mastiff', 'tibetan_terrier', 'toy_poodle', 'toy_terrier',\n",
              "       'vizsla', 'walker_hound', 'weimaraner', 'welsh_springer_spaniel',\n",
              "       'west_highland_white_terrier', 'whippet',\n",
              "       'wire-haired_fox_terrier', 'yorkshire_terrier'], dtype=object)"
            ]
          },
          "metadata": {},
          "execution_count": 12
        }
      ]
    },
    {
      "cell_type": "code",
      "source": [
        "labels[0] == unique_breeds"
      ],
      "metadata": {
        "colab": {
          "base_uri": "https://localhost:8080/"
        },
        "id": "inU2h7xwpN_v",
        "outputId": "f622bc89-4733-4dfd-999a-6c5c0b9596d4"
      },
      "execution_count": null,
      "outputs": [
        {
          "output_type": "execute_result",
          "data": {
            "text/plain": [
              "array([False, False, False, False, False, False, False, False, False,\n",
              "       False, False, False, False, False, False, False, False, False,\n",
              "       False,  True, False, False, False, False, False, False, False,\n",
              "       False, False, False, False, False, False, False, False, False,\n",
              "       False, False, False, False, False, False, False, False, False,\n",
              "       False, False, False, False, False, False, False, False, False,\n",
              "       False, False, False, False, False, False, False, False, False,\n",
              "       False, False, False, False, False, False, False, False, False,\n",
              "       False, False, False, False, False, False, False, False, False,\n",
              "       False, False, False, False, False, False, False, False, False,\n",
              "       False, False, False, False, False, False, False, False, False,\n",
              "       False, False, False, False, False, False, False, False, False,\n",
              "       False, False, False, False, False, False, False, False, False,\n",
              "       False, False, False])"
            ]
          },
          "metadata": {},
          "execution_count": 10
        }
      ]
    },
    {
      "cell_type": "code",
      "source": [
        "boolean_labels = [label == unique_breeds for label in labels]\n",
        "boolean_labels[:2]"
      ],
      "metadata": {
        "colab": {
          "base_uri": "https://localhost:8080/"
        },
        "id": "g2Il0ytaplDQ",
        "outputId": "f28d9d7a-ab15-4a2b-fa0b-6ca2dd13ca3b"
      },
      "execution_count": null,
      "outputs": [
        {
          "output_type": "execute_result",
          "data": {
            "text/plain": [
              "[array([False, False, False, False, False, False, False, False, False,\n",
              "        False, False, False, False, False, False, False, False, False,\n",
              "        False,  True, False, False, False, False, False, False, False,\n",
              "        False, False, False, False, False, False, False, False, False,\n",
              "        False, False, False, False, False, False, False, False, False,\n",
              "        False, False, False, False, False, False, False, False, False,\n",
              "        False, False, False, False, False, False, False, False, False,\n",
              "        False, False, False, False, False, False, False, False, False,\n",
              "        False, False, False, False, False, False, False, False, False,\n",
              "        False, False, False, False, False, False, False, False, False,\n",
              "        False, False, False, False, False, False, False, False, False,\n",
              "        False, False, False, False, False, False, False, False, False,\n",
              "        False, False, False, False, False, False, False, False, False,\n",
              "        False, False, False]),\n",
              " array([False, False, False, False, False, False, False, False, False,\n",
              "        False, False, False, False, False, False, False, False, False,\n",
              "        False, False, False, False, False, False, False, False, False,\n",
              "        False, False, False, False, False, False, False, False, False,\n",
              "        False,  True, False, False, False, False, False, False, False,\n",
              "        False, False, False, False, False, False, False, False, False,\n",
              "        False, False, False, False, False, False, False, False, False,\n",
              "        False, False, False, False, False, False, False, False, False,\n",
              "        False, False, False, False, False, False, False, False, False,\n",
              "        False, False, False, False, False, False, False, False, False,\n",
              "        False, False, False, False, False, False, False, False, False,\n",
              "        False, False, False, False, False, False, False, False, False,\n",
              "        False, False, False, False, False, False, False, False, False,\n",
              "        False, False, False])]"
            ]
          },
          "metadata": {},
          "execution_count": 13
        }
      ]
    },
    {
      "cell_type": "code",
      "source": [
        "X = filenames\n",
        "y = boolean_labels\n"
      ],
      "metadata": {
        "id": "iWLonx0Tpxap"
      },
      "execution_count": null,
      "outputs": []
    },
    {
      "cell_type": "code",
      "source": [
        "NUM_IMAGES = 1000 #@param {type:\"slider\", min:1000, max:10000}"
      ],
      "metadata": {
        "id": "ZAiyeBPAp7pJ"
      },
      "execution_count": null,
      "outputs": []
    },
    {
      "cell_type": "code",
      "source": [
        "from sklearn.model_selection import train_test_split\n",
        "X_train,X_val, y_train,y_val = train_test_split(X[:NUM_IMAGES],y[:NUM_IMAGES],test_size=0.2, random_state=42)"
      ],
      "metadata": {
        "id": "jzLLF-8Dp_le"
      },
      "execution_count": null,
      "outputs": []
    },
    {
      "cell_type": "code",
      "source": [
        "len(X_val),len(X_train)"
      ],
      "metadata": {
        "colab": {
          "base_uri": "https://localhost:8080/"
        },
        "id": "8CAGxJb2qWKC",
        "outputId": "7a7e7f29-089f-4a43-93f9-b44298a2506f"
      },
      "execution_count": null,
      "outputs": [
        {
          "output_type": "execute_result",
          "data": {
            "text/plain": [
              "(200, 800)"
            ]
          },
          "metadata": {},
          "execution_count": 55
        }
      ]
    },
    {
      "cell_type": "code",
      "source": [
        "image = imread(filenames[42])\n",
        "image.shape"
      ],
      "metadata": {
        "id": "8-aXIDXkqaCT"
      },
      "execution_count": null,
      "outputs": []
    },
    {
      "cell_type": "code",
      "source": [
        "tf.constant(image)"
      ],
      "metadata": {
        "id": "hJDkWsGtqm8v"
      },
      "execution_count": null,
      "outputs": []
    },
    {
      "cell_type": "code",
      "source": [
        "def process_image(image_path):\n",
        "  #Read image file \n",
        "  image = tf.io.read_file(image_path)\n",
        "  #Turns jpeg to numerical tensor w/ 3 colors \n",
        "  image = tf.image.decode_jpeg(image,channels=3)\n",
        "  #Coverts color values from 0-255 to 0-1 Normalizing data \n",
        "  image = tf.image.convert_image_dtype(image, tf.float32)\n",
        "  #resize image to (224,224)\n",
        "  image = tf.image.resize(image, size = [224, 224])\n",
        "\n",
        "  return image"
      ],
      "metadata": {
        "id": "QYsOt6Qfr1gn"
      },
      "execution_count": null,
      "outputs": []
    },
    {
      "cell_type": "code",
      "source": [
        "# return tuple for (image, label)\n",
        "def get_image_label(image_path,label):\n",
        "  image = process_image(image_path)\n",
        "  return image,label"
      ],
      "metadata": {
        "id": "h4YTSWrCs0YB"
      },
      "execution_count": null,
      "outputs": []
    },
    {
      "cell_type": "code",
      "source": [
        "#Might elimate this \n",
        "# define batch size to 32\n",
        "BATCH_SIZE = 32\n",
        "def create_data_batches(X,y=None, batch_size = BATCH_SIZE,valid_data=False,test_data =False):\n",
        "  \"\"\"\n",
        "  Creates batches from X,y \n",
        "  Shuffles training data but doesnt shuffle validation data \n",
        "  accepts test data as input which would have 0 labels hense y is set at none\n",
        "  \"\"\"\n",
        "  if test_data:\n",
        "    print(\"Creating test batches\")\n",
        "    data = tf.data.Dataset.from_tensor_slices((tf.constant(X)))\n",
        "    data_batch = data.map(process_image).batch(BATCH_SIZE)\n",
        "    return data_batch\n",
        "\n",
        "  elif valid_data:\n",
        "    print(\"Creating validation batches\")\n",
        "    data = tf.data.Dataset.from_tensor_slices((tf.constant(X),tf.constant(y)))\n",
        "    data_batch = data.map(get_image_label).batch(BATCH_SIZE)\n",
        "    return data_batch\n",
        "  else:\n",
        "    print(\"create training batches\")\n",
        "    data = tf.data.Dataset.from_tensor_slices((tf.constant(X),tf.constant(y)))\n",
        "    # shuffling data \n",
        "    # shuffling smart first because easier to shuffle names than the full images\n",
        "    data = data.shuffle(buffer_size=len(X))\n",
        "    data = data.map(get_image_label)\n",
        "    data_batch = data.batch(BATCH_SIZE)\n",
        "    return data_batch"
      ],
      "metadata": {
        "id": "Bh-cf4Xrs08H"
      },
      "execution_count": null,
      "outputs": []
    },
    {
      "cell_type": "code",
      "source": [
        "train_data = create_data_batches(X_train,y_train)\n",
        "val_data = create_data_batches(X_val,y_val,valid_data=True)"
      ],
      "metadata": {
        "colab": {
          "base_uri": "https://localhost:8080/"
        },
        "id": "p_J6u_xjtQSu",
        "outputId": "e7bf49f5-b66a-4f6e-ad52-2d1bd9e3e731"
      },
      "execution_count": null,
      "outputs": [
        {
          "output_type": "stream",
          "name": "stdout",
          "text": [
            "create training batches\n",
            "Creating validation batches\n"
          ]
        }
      ]
    },
    {
      "cell_type": "code",
      "source": [
        "INPUT_SHAPE = [None, 224, 224, 3]\n",
        "\n",
        "OUTPUT_SHAPE = len(unique_breeds)"
      ],
      "metadata": {
        "id": "dQyapCu9v-47"
      },
      "execution_count": null,
      "outputs": []
    },
    {
      "cell_type": "code",
      "source": [
        "model_NN = tf.keras.Sequential([\n",
        "  tf.keras.layers.Flatten(input_shape=(224, 224,3)), # input layer (we had to reshape 28x28 to 784)\n",
        "  tf.keras.layers.Dense(10, activation=\"relu\"),\n",
        "  tf.keras.layers.Dense(10, activation=\"relu\"),\n",
        "  tf.keras.layers.Dense(OUTPUT_SHAPE, activation=\"softmax\") # output shape is 10, activation is softmax\n",
        "])\n",
        "\n",
        "model_NN.compile(loss=\"categorical_crossentropy\",\n",
        "              optimizer=tf.keras.optimizers.Adam(),\n",
        "              metrics=[\"accuracy\"])\n",
        "\n",
        "history_NN = model_NN.fit(train_data, # use augmented data\n",
        "                          epochs=5,\n",
        "                          #steps_per_epoch=len(train_data),\n",
        "                          validation_data=val_data)\n",
        "                          #alidation_steps=len(train_data))"
      ],
      "metadata": {
        "colab": {
          "base_uri": "https://localhost:8080/"
        },
        "id": "oRaIZjVxw5bq",
        "outputId": "a6926025-f99c-4f50-d556-82a3530748d9"
      },
      "execution_count": null,
      "outputs": [
        {
          "output_type": "stream",
          "name": "stdout",
          "text": [
            "Epoch 1/5\n",
            "25/25 [==============================] - 5s 191ms/step - loss: 6.0102 - accuracy: 0.0037 - val_loss: 4.7882 - val_accuracy: 0.0000e+00\n",
            "Epoch 2/5\n",
            "25/25 [==============================] - 3s 117ms/step - loss: 4.7897 - accuracy: 0.0150 - val_loss: 4.7884 - val_accuracy: 0.0000e+00\n",
            "Epoch 3/5\n",
            "25/25 [==============================] - 3s 119ms/step - loss: 4.7830 - accuracy: 0.0162 - val_loss: 4.7889 - val_accuracy: 0.0000e+00\n",
            "Epoch 4/5\n",
            "25/25 [==============================] - 3s 121ms/step - loss: 4.7810 - accuracy: 0.0162 - val_loss: 4.7894 - val_accuracy: 0.0000e+00\n",
            "Epoch 5/5\n",
            "25/25 [==============================] - 3s 120ms/step - loss: 4.7791 - accuracy: 0.0162 - val_loss: 4.7897 - val_accuracy: 0.0000e+00\n"
          ]
        }
      ]
    },
    {
      "cell_type": "code",
      "source": [
        "from tensorflow.keras.models import Sequential\n",
        "from tensorflow.keras.layers import Conv2D, MaxPool2D, Flatten, Dense\n",
        "\n",
        "model_CNN = tf.keras.Sequential([\n",
        "  Conv2D(10, 3, activation='relu', input_shape=(224, 224, 3)),\n",
        "  MaxPool2D(),\n",
        "  Conv2D(10, 3, activation='relu'),\n",
        "  MaxPool2D(),\n",
        "  Flatten(),\n",
        "  Dense(120, activation='softmax') ])\n",
        " \n",
        "model_CNN.compile(loss=\"categorical_crossentropy\",\n",
        "              optimizer=tf.keras.optimizers.Adam(),\n",
        "              metrics=[\"accuracy\"])\n",
        "\n",
        "history_CNN = model_CNN.fit(train_data, # use augmented data\n",
        "                          epochs=15,\n",
        "                          #steps_per_epoch=len(train_data)/25,\n",
        "                          validation_data=val_data)\n",
        "                          #validation_steps=len(train_data)/25)"
      ],
      "metadata": {
        "colab": {
          "base_uri": "https://localhost:8080/"
        },
        "id": "jMQPTyoVxms9",
        "outputId": "55c2b523-7c7b-40b8-fbf3-3514d0683a3f"
      },
      "execution_count": null,
      "outputs": [
        {
          "output_type": "stream",
          "name": "stdout",
          "text": [
            "Epoch 1/15\n",
            "25/25 [==============================] - 6s 208ms/step - loss: 4.8565 - accuracy: 0.0063 - val_loss: 4.7909 - val_accuracy: 0.0100\n",
            "Epoch 2/15\n",
            "25/25 [==============================] - 3s 130ms/step - loss: 4.1886 - accuracy: 0.2225 - val_loss: 4.9064 - val_accuracy: 0.0250\n",
            "Epoch 3/15\n",
            "25/25 [==============================] - 3s 130ms/step - loss: 2.7560 - accuracy: 0.5863 - val_loss: 5.8028 - val_accuracy: 0.0350\n",
            "Epoch 4/15\n",
            "25/25 [==============================] - 3s 131ms/step - loss: 1.1594 - accuracy: 0.8363 - val_loss: 7.0038 - val_accuracy: 0.0300\n",
            "Epoch 5/15\n",
            "25/25 [==============================] - 3s 131ms/step - loss: 0.3968 - accuracy: 0.9563 - val_loss: 8.1864 - val_accuracy: 0.0250\n",
            "Epoch 6/15\n",
            "25/25 [==============================] - 3s 129ms/step - loss: 0.1160 - accuracy: 0.9900 - val_loss: 9.0959 - val_accuracy: 0.0200\n",
            "Epoch 7/15\n",
            "25/25 [==============================] - 3s 130ms/step - loss: 0.0559 - accuracy: 0.9975 - val_loss: 9.3756 - val_accuracy: 0.0450\n",
            "Epoch 8/15\n",
            "25/25 [==============================] - 3s 132ms/step - loss: 0.0156 - accuracy: 1.0000 - val_loss: 9.2227 - val_accuracy: 0.0400\n",
            "Epoch 9/15\n",
            "25/25 [==============================] - 3s 129ms/step - loss: 0.0066 - accuracy: 1.0000 - val_loss: 9.4936 - val_accuracy: 0.0500\n",
            "Epoch 10/15\n",
            "25/25 [==============================] - 3s 120ms/step - loss: 0.0043 - accuracy: 1.0000 - val_loss: 9.5352 - val_accuracy: 0.0450\n",
            "Epoch 11/15\n",
            "25/25 [==============================] - 3s 125ms/step - loss: 0.0033 - accuracy: 1.0000 - val_loss: 9.6016 - val_accuracy: 0.0400\n",
            "Epoch 12/15\n",
            "25/25 [==============================] - 3s 122ms/step - loss: 0.0027 - accuracy: 1.0000 - val_loss: 9.6105 - val_accuracy: 0.0400\n",
            "Epoch 13/15\n",
            "25/25 [==============================] - 3s 123ms/step - loss: 0.0023 - accuracy: 1.0000 - val_loss: 9.6578 - val_accuracy: 0.0400\n",
            "Epoch 14/15\n",
            "25/25 [==============================] - 3s 122ms/step - loss: 0.0020 - accuracy: 1.0000 - val_loss: 9.7158 - val_accuracy: 0.0400\n",
            "Epoch 15/15\n",
            "25/25 [==============================] - 4s 182ms/step - loss: 0.0017 - accuracy: 1.0000 - val_loss: 9.7042 - val_accuracy: 0.0400\n"
          ]
        }
      ]
    },
    {
      "cell_type": "code",
      "source": [
        "model_NN_2 = tf.keras.Sequential([\n",
        "  tf.keras.layers.Flatten(input_shape=(224, 224,3)), # input layer (we had to reshape 28x28 to 784)\n",
        "  tf.keras.layers.Dense(100, activation=\"relu\"),\n",
        "  tf.keras.layers.Dense(100, activation=\"relu\"),\n",
        "  tf.keras.layers.Dense(100, activation=\"relu\"),\n",
        "  tf.keras.layers.Dense(100, activation=\"relu\"),\n",
        "  tf.keras.layers.Dense(OUTPUT_SHAPE, activation=\"softmax\") # output shape is 10, activation is softmax\n",
        "])\n",
        "\n",
        "model_NN_2.compile(loss=\"categorical_crossentropy\",\n",
        "              optimizer=tf.keras.optimizers.Adam(),\n",
        "              metrics=[\"accuracy\"])\n",
        "\n",
        "history_NN_2 = model_NN_2.fit(train_data, # use augmented data\n",
        "                          epochs=25,\n",
        "                          #steps_per_epoch=len(train_data),\n",
        "                          validation_data=val_data)\n",
        "                          #alidation_steps=len(train_data))"
      ],
      "metadata": {
        "colab": {
          "base_uri": "https://localhost:8080/",
          "height": 693
        },
        "id": "VOKlk6iy-LLL",
        "outputId": "01cc9c69-b356-4c89-cab6-9b2867f3c9f4"
      },
      "execution_count": null,
      "outputs": [
        {
          "output_type": "stream",
          "name": "stdout",
          "text": [
            "Epoch 1/25\n",
            "25/25 [==============================] - 6s 198ms/step - loss: 11.2623 - accuracy: 0.0100 - val_loss: 4.8478 - val_accuracy: 0.0200\n",
            "Epoch 2/25\n",
            "25/25 [==============================] - 3s 122ms/step - loss: 4.7974 - accuracy: 0.0050 - val_loss: 4.7883 - val_accuracy: 0.0150\n",
            "Epoch 3/25\n",
            "25/25 [==============================] - 3s 124ms/step - loss: 4.7836 - accuracy: 0.0137 - val_loss: 4.7890 - val_accuracy: 0.0200\n",
            "Epoch 4/25\n",
            "25/25 [==============================] - 3s 124ms/step - loss: 4.7810 - accuracy: 0.0150 - val_loss: 4.7899 - val_accuracy: 0.0200\n",
            "Epoch 5/25\n",
            "25/25 [==============================] - 3s 123ms/step - loss: 4.7774 - accuracy: 0.0150 - val_loss: 4.7913 - val_accuracy: 0.0200\n",
            "Epoch 6/25\n",
            "25/25 [==============================] - 3s 123ms/step - loss: 4.7726 - accuracy: 0.0150 - val_loss: 4.7942 - val_accuracy: 0.0200\n",
            "Epoch 7/25\n",
            "25/25 [==============================] - 3s 120ms/step - loss: 4.7654 - accuracy: 0.0150 - val_loss: 4.7989 - val_accuracy: 0.0200\n",
            "Epoch 8/25\n",
            "25/25 [==============================] - 3s 123ms/step - loss: 4.7511 - accuracy: 0.0175 - val_loss: 4.8129 - val_accuracy: 0.0200\n",
            "Epoch 9/25\n",
            " 8/25 [========>.....................] - ETA: 1s - loss: 4.7536 - accuracy: 0.0039"
          ]
        },
        {
          "output_type": "error",
          "ename": "KeyboardInterrupt",
          "evalue": "ignored",
          "traceback": [
            "\u001b[0;31m---------------------------------------------------------------------------\u001b[0m",
            "\u001b[0;31mKeyboardInterrupt\u001b[0m                         Traceback (most recent call last)",
            "\u001b[0;32m<ipython-input-26-3268bd9affa9>\u001b[0m in \u001b[0;36m<module>\u001b[0;34m()\u001b[0m\n\u001b[1;32m     15\u001b[0m                           \u001b[0mepochs\u001b[0m\u001b[0;34m=\u001b[0m\u001b[0;36m25\u001b[0m\u001b[0;34m,\u001b[0m\u001b[0;34m\u001b[0m\u001b[0;34m\u001b[0m\u001b[0m\n\u001b[1;32m     16\u001b[0m                           \u001b[0;31m#steps_per_epoch=len(train_data),\u001b[0m\u001b[0;34m\u001b[0m\u001b[0;34m\u001b[0m\u001b[0;34m\u001b[0m\u001b[0m\n\u001b[0;32m---> 17\u001b[0;31m                           validation_data=val_data)\n\u001b[0m\u001b[1;32m     18\u001b[0m                           \u001b[0;31m#alidation_steps=len(train_data))\u001b[0m\u001b[0;34m\u001b[0m\u001b[0;34m\u001b[0m\u001b[0;34m\u001b[0m\u001b[0m\n",
            "\u001b[0;32m/usr/local/lib/python3.7/dist-packages/keras/utils/traceback_utils.py\u001b[0m in \u001b[0;36merror_handler\u001b[0;34m(*args, **kwargs)\u001b[0m\n\u001b[1;32m     62\u001b[0m     \u001b[0mfiltered_tb\u001b[0m \u001b[0;34m=\u001b[0m \u001b[0;32mNone\u001b[0m\u001b[0;34m\u001b[0m\u001b[0;34m\u001b[0m\u001b[0m\n\u001b[1;32m     63\u001b[0m     \u001b[0;32mtry\u001b[0m\u001b[0;34m:\u001b[0m\u001b[0;34m\u001b[0m\u001b[0;34m\u001b[0m\u001b[0m\n\u001b[0;32m---> 64\u001b[0;31m       \u001b[0;32mreturn\u001b[0m \u001b[0mfn\u001b[0m\u001b[0;34m(\u001b[0m\u001b[0;34m*\u001b[0m\u001b[0margs\u001b[0m\u001b[0;34m,\u001b[0m \u001b[0;34m**\u001b[0m\u001b[0mkwargs\u001b[0m\u001b[0;34m)\u001b[0m\u001b[0;34m\u001b[0m\u001b[0;34m\u001b[0m\u001b[0m\n\u001b[0m\u001b[1;32m     65\u001b[0m     \u001b[0;32mexcept\u001b[0m \u001b[0mException\u001b[0m \u001b[0;32mas\u001b[0m \u001b[0me\u001b[0m\u001b[0;34m:\u001b[0m  \u001b[0;31m# pylint: disable=broad-except\u001b[0m\u001b[0;34m\u001b[0m\u001b[0;34m\u001b[0m\u001b[0m\n\u001b[1;32m     66\u001b[0m       \u001b[0mfiltered_tb\u001b[0m \u001b[0;34m=\u001b[0m \u001b[0m_process_traceback_frames\u001b[0m\u001b[0;34m(\u001b[0m\u001b[0me\u001b[0m\u001b[0;34m.\u001b[0m\u001b[0m__traceback__\u001b[0m\u001b[0;34m)\u001b[0m\u001b[0;34m\u001b[0m\u001b[0;34m\u001b[0m\u001b[0m\n",
            "\u001b[0;32m/usr/local/lib/python3.7/dist-packages/keras/engine/training.py\u001b[0m in \u001b[0;36mfit\u001b[0;34m(self, x, y, batch_size, epochs, verbose, callbacks, validation_split, validation_data, shuffle, class_weight, sample_weight, initial_epoch, steps_per_epoch, validation_steps, validation_batch_size, validation_freq, max_queue_size, workers, use_multiprocessing)\u001b[0m\n\u001b[1;32m   1382\u001b[0m                 _r=1):\n\u001b[1;32m   1383\u001b[0m               \u001b[0mcallbacks\u001b[0m\u001b[0;34m.\u001b[0m\u001b[0mon_train_batch_begin\u001b[0m\u001b[0;34m(\u001b[0m\u001b[0mstep\u001b[0m\u001b[0;34m)\u001b[0m\u001b[0;34m\u001b[0m\u001b[0;34m\u001b[0m\u001b[0m\n\u001b[0;32m-> 1384\u001b[0;31m               \u001b[0mtmp_logs\u001b[0m \u001b[0;34m=\u001b[0m \u001b[0mself\u001b[0m\u001b[0;34m.\u001b[0m\u001b[0mtrain_function\u001b[0m\u001b[0;34m(\u001b[0m\u001b[0miterator\u001b[0m\u001b[0;34m)\u001b[0m\u001b[0;34m\u001b[0m\u001b[0;34m\u001b[0m\u001b[0m\n\u001b[0m\u001b[1;32m   1385\u001b[0m               \u001b[0;32mif\u001b[0m \u001b[0mdata_handler\u001b[0m\u001b[0;34m.\u001b[0m\u001b[0mshould_sync\u001b[0m\u001b[0;34m:\u001b[0m\u001b[0;34m\u001b[0m\u001b[0;34m\u001b[0m\u001b[0m\n\u001b[1;32m   1386\u001b[0m                 \u001b[0mcontext\u001b[0m\u001b[0;34m.\u001b[0m\u001b[0masync_wait\u001b[0m\u001b[0;34m(\u001b[0m\u001b[0;34m)\u001b[0m\u001b[0;34m\u001b[0m\u001b[0;34m\u001b[0m\u001b[0m\n",
            "\u001b[0;32m/usr/local/lib/python3.7/dist-packages/tensorflow/python/util/traceback_utils.py\u001b[0m in \u001b[0;36merror_handler\u001b[0;34m(*args, **kwargs)\u001b[0m\n\u001b[1;32m    148\u001b[0m     \u001b[0mfiltered_tb\u001b[0m \u001b[0;34m=\u001b[0m \u001b[0;32mNone\u001b[0m\u001b[0;34m\u001b[0m\u001b[0;34m\u001b[0m\u001b[0m\n\u001b[1;32m    149\u001b[0m     \u001b[0;32mtry\u001b[0m\u001b[0;34m:\u001b[0m\u001b[0;34m\u001b[0m\u001b[0;34m\u001b[0m\u001b[0m\n\u001b[0;32m--> 150\u001b[0;31m       \u001b[0;32mreturn\u001b[0m \u001b[0mfn\u001b[0m\u001b[0;34m(\u001b[0m\u001b[0;34m*\u001b[0m\u001b[0margs\u001b[0m\u001b[0;34m,\u001b[0m \u001b[0;34m**\u001b[0m\u001b[0mkwargs\u001b[0m\u001b[0;34m)\u001b[0m\u001b[0;34m\u001b[0m\u001b[0;34m\u001b[0m\u001b[0m\n\u001b[0m\u001b[1;32m    151\u001b[0m     \u001b[0;32mexcept\u001b[0m \u001b[0mException\u001b[0m \u001b[0;32mas\u001b[0m \u001b[0me\u001b[0m\u001b[0;34m:\u001b[0m\u001b[0;34m\u001b[0m\u001b[0;34m\u001b[0m\u001b[0m\n\u001b[1;32m    152\u001b[0m       \u001b[0mfiltered_tb\u001b[0m \u001b[0;34m=\u001b[0m \u001b[0m_process_traceback_frames\u001b[0m\u001b[0;34m(\u001b[0m\u001b[0me\u001b[0m\u001b[0;34m.\u001b[0m\u001b[0m__traceback__\u001b[0m\u001b[0;34m)\u001b[0m\u001b[0;34m\u001b[0m\u001b[0;34m\u001b[0m\u001b[0m\n",
            "\u001b[0;32m/usr/local/lib/python3.7/dist-packages/tensorflow/python/eager/def_function.py\u001b[0m in \u001b[0;36m__call__\u001b[0;34m(self, *args, **kwds)\u001b[0m\n\u001b[1;32m    913\u001b[0m \u001b[0;34m\u001b[0m\u001b[0m\n\u001b[1;32m    914\u001b[0m       \u001b[0;32mwith\u001b[0m \u001b[0mOptionalXlaContext\u001b[0m\u001b[0;34m(\u001b[0m\u001b[0mself\u001b[0m\u001b[0;34m.\u001b[0m\u001b[0m_jit_compile\u001b[0m\u001b[0;34m)\u001b[0m\u001b[0;34m:\u001b[0m\u001b[0;34m\u001b[0m\u001b[0;34m\u001b[0m\u001b[0m\n\u001b[0;32m--> 915\u001b[0;31m         \u001b[0mresult\u001b[0m \u001b[0;34m=\u001b[0m \u001b[0mself\u001b[0m\u001b[0;34m.\u001b[0m\u001b[0m_call\u001b[0m\u001b[0;34m(\u001b[0m\u001b[0;34m*\u001b[0m\u001b[0margs\u001b[0m\u001b[0;34m,\u001b[0m \u001b[0;34m**\u001b[0m\u001b[0mkwds\u001b[0m\u001b[0;34m)\u001b[0m\u001b[0;34m\u001b[0m\u001b[0;34m\u001b[0m\u001b[0m\n\u001b[0m\u001b[1;32m    916\u001b[0m \u001b[0;34m\u001b[0m\u001b[0m\n\u001b[1;32m    917\u001b[0m       \u001b[0mnew_tracing_count\u001b[0m \u001b[0;34m=\u001b[0m \u001b[0mself\u001b[0m\u001b[0;34m.\u001b[0m\u001b[0mexperimental_get_tracing_count\u001b[0m\u001b[0;34m(\u001b[0m\u001b[0;34m)\u001b[0m\u001b[0;34m\u001b[0m\u001b[0;34m\u001b[0m\u001b[0m\n",
            "\u001b[0;32m/usr/local/lib/python3.7/dist-packages/tensorflow/python/eager/def_function.py\u001b[0m in \u001b[0;36m_call\u001b[0;34m(self, *args, **kwds)\u001b[0m\n\u001b[1;32m    945\u001b[0m       \u001b[0;31m# In this case we have created variables on the first call, so we run the\u001b[0m\u001b[0;34m\u001b[0m\u001b[0;34m\u001b[0m\u001b[0;34m\u001b[0m\u001b[0m\n\u001b[1;32m    946\u001b[0m       \u001b[0;31m# defunned version which is guaranteed to never create variables.\u001b[0m\u001b[0;34m\u001b[0m\u001b[0;34m\u001b[0m\u001b[0;34m\u001b[0m\u001b[0m\n\u001b[0;32m--> 947\u001b[0;31m       \u001b[0;32mreturn\u001b[0m \u001b[0mself\u001b[0m\u001b[0;34m.\u001b[0m\u001b[0m_stateless_fn\u001b[0m\u001b[0;34m(\u001b[0m\u001b[0;34m*\u001b[0m\u001b[0margs\u001b[0m\u001b[0;34m,\u001b[0m \u001b[0;34m**\u001b[0m\u001b[0mkwds\u001b[0m\u001b[0;34m)\u001b[0m  \u001b[0;31m# pylint: disable=not-callable\u001b[0m\u001b[0;34m\u001b[0m\u001b[0;34m\u001b[0m\u001b[0m\n\u001b[0m\u001b[1;32m    948\u001b[0m     \u001b[0;32melif\u001b[0m \u001b[0mself\u001b[0m\u001b[0;34m.\u001b[0m\u001b[0m_stateful_fn\u001b[0m \u001b[0;32mis\u001b[0m \u001b[0;32mnot\u001b[0m \u001b[0;32mNone\u001b[0m\u001b[0;34m:\u001b[0m\u001b[0;34m\u001b[0m\u001b[0;34m\u001b[0m\u001b[0m\n\u001b[1;32m    949\u001b[0m       \u001b[0;31m# Release the lock early so that multiple threads can perform the call\u001b[0m\u001b[0;34m\u001b[0m\u001b[0;34m\u001b[0m\u001b[0;34m\u001b[0m\u001b[0m\n",
            "\u001b[0;32m/usr/local/lib/python3.7/dist-packages/tensorflow/python/eager/function.py\u001b[0m in \u001b[0;36m__call__\u001b[0;34m(self, *args, **kwargs)\u001b[0m\n\u001b[1;32m   2955\u001b[0m        filtered_flat_args) = self._maybe_define_function(args, kwargs)\n\u001b[1;32m   2956\u001b[0m     return graph_function._call_flat(\n\u001b[0;32m-> 2957\u001b[0;31m         filtered_flat_args, captured_inputs=graph_function.captured_inputs)  # pylint: disable=protected-access\n\u001b[0m\u001b[1;32m   2958\u001b[0m \u001b[0;34m\u001b[0m\u001b[0m\n\u001b[1;32m   2959\u001b[0m   \u001b[0;34m@\u001b[0m\u001b[0mproperty\u001b[0m\u001b[0;34m\u001b[0m\u001b[0;34m\u001b[0m\u001b[0m\n",
            "\u001b[0;32m/usr/local/lib/python3.7/dist-packages/tensorflow/python/eager/function.py\u001b[0m in \u001b[0;36m_call_flat\u001b[0;34m(self, args, captured_inputs, cancellation_manager)\u001b[0m\n\u001b[1;32m   1852\u001b[0m       \u001b[0;31m# No tape is watching; skip to running the function.\u001b[0m\u001b[0;34m\u001b[0m\u001b[0;34m\u001b[0m\u001b[0;34m\u001b[0m\u001b[0m\n\u001b[1;32m   1853\u001b[0m       return self._build_call_outputs(self._inference_function.call(\n\u001b[0;32m-> 1854\u001b[0;31m           ctx, args, cancellation_manager=cancellation_manager))\n\u001b[0m\u001b[1;32m   1855\u001b[0m     forward_backward = self._select_forward_and_backward_functions(\n\u001b[1;32m   1856\u001b[0m         \u001b[0margs\u001b[0m\u001b[0;34m,\u001b[0m\u001b[0;34m\u001b[0m\u001b[0;34m\u001b[0m\u001b[0m\n",
            "\u001b[0;32m/usr/local/lib/python3.7/dist-packages/tensorflow/python/eager/function.py\u001b[0m in \u001b[0;36mcall\u001b[0;34m(self, ctx, args, cancellation_manager)\u001b[0m\n\u001b[1;32m    502\u001b[0m               \u001b[0minputs\u001b[0m\u001b[0;34m=\u001b[0m\u001b[0margs\u001b[0m\u001b[0;34m,\u001b[0m\u001b[0;34m\u001b[0m\u001b[0;34m\u001b[0m\u001b[0m\n\u001b[1;32m    503\u001b[0m               \u001b[0mattrs\u001b[0m\u001b[0;34m=\u001b[0m\u001b[0mattrs\u001b[0m\u001b[0;34m,\u001b[0m\u001b[0;34m\u001b[0m\u001b[0;34m\u001b[0m\u001b[0m\n\u001b[0;32m--> 504\u001b[0;31m               ctx=ctx)\n\u001b[0m\u001b[1;32m    505\u001b[0m         \u001b[0;32melse\u001b[0m\u001b[0;34m:\u001b[0m\u001b[0;34m\u001b[0m\u001b[0;34m\u001b[0m\u001b[0m\n\u001b[1;32m    506\u001b[0m           outputs = execute.execute_with_cancellation(\n",
            "\u001b[0;32m/usr/local/lib/python3.7/dist-packages/tensorflow/python/eager/execute.py\u001b[0m in \u001b[0;36mquick_execute\u001b[0;34m(op_name, num_outputs, inputs, attrs, ctx, name)\u001b[0m\n\u001b[1;32m     53\u001b[0m     \u001b[0mctx\u001b[0m\u001b[0;34m.\u001b[0m\u001b[0mensure_initialized\u001b[0m\u001b[0;34m(\u001b[0m\u001b[0;34m)\u001b[0m\u001b[0;34m\u001b[0m\u001b[0;34m\u001b[0m\u001b[0m\n\u001b[1;32m     54\u001b[0m     tensors = pywrap_tfe.TFE_Py_Execute(ctx._handle, device_name, op_name,\n\u001b[0;32m---> 55\u001b[0;31m                                         inputs, attrs, num_outputs)\n\u001b[0m\u001b[1;32m     56\u001b[0m   \u001b[0;32mexcept\u001b[0m \u001b[0mcore\u001b[0m\u001b[0;34m.\u001b[0m\u001b[0m_NotOkStatusException\u001b[0m \u001b[0;32mas\u001b[0m \u001b[0me\u001b[0m\u001b[0;34m:\u001b[0m\u001b[0;34m\u001b[0m\u001b[0;34m\u001b[0m\u001b[0m\n\u001b[1;32m     57\u001b[0m     \u001b[0;32mif\u001b[0m \u001b[0mname\u001b[0m \u001b[0;32mis\u001b[0m \u001b[0;32mnot\u001b[0m \u001b[0;32mNone\u001b[0m\u001b[0;34m:\u001b[0m\u001b[0;34m\u001b[0m\u001b[0;34m\u001b[0m\u001b[0m\n",
            "\u001b[0;31mKeyboardInterrupt\u001b[0m: "
          ]
        }
      ]
    },
    {
      "cell_type": "code",
      "source": [
        "MODEL_URL = \"https://tfhub.dev/google/imagenet/mobilenet_v2_130_224/classification/5\""
      ],
      "metadata": {
        "id": "I7OHPOx1Bym7"
      },
      "execution_count": null,
      "outputs": []
    },
    {
      "cell_type": "code",
      "source": [
        "INPUT_SHAPE = (None,224,224,3)\n",
        "OUTPUT_SHAPE= OUTPUT_SHAPE = len(unique_breeds)\n",
        "from sklearn.utils.extmath import softmax\n",
        "# setting it equal to value in params makes it a default. ah\n",
        "def create_model(input_shape= INPUT_SHAPE,output_shape = OUTPUT_SHAPE,model_url = MODEL_URL):\n",
        "  print(\"building model with: \", MODEL_URL)\n",
        "  #print(\"hi\")\n",
        "  model = tf.keras.Sequential([\n",
        "    hub.KerasLayer(MODEL_URL), # layer 1 (input layer)\n",
        "    tf.keras.layers.Dense(units=OUTPUT_SHAPE,activation =\"softmax\") #(layer 2 output)\n",
        "    ])\n",
        "  #print(\"hello\")\n",
        "  #compile model\n",
        "  model.compile(\n",
        "      loss = tf.keras.losses.CategoricalCrossentropy(),\n",
        "      optimizer = tf.keras.optimizers.Adam(),\n",
        "      metrics=[\"accuracy\"]\n",
        "  )\n",
        "  model.build(INPUT_SHAPE)\n",
        "  return model"
      ],
      "metadata": {
        "id": "Nh5TV5WQS8rV"
      },
      "execution_count": null,
      "outputs": []
    },
    {
      "cell_type": "code",
      "source": [
        "%load_ext tensorboard\n",
        "\n",
        "import datetime \n",
        "#funtion to create tensorboard callback\n",
        "def create_tensorboard_callback():\n",
        "  logdir = os.path.join(\"/content/drive/MyDrive/Dog_Detection/logs\",\n",
        "                          datetime.datetime.now().strftime(\"%Y%m%d-%H%M%S\"))\n",
        "  return tf.keras.callbacks.TensorBoard(logdir)\n"
      ],
      "metadata": {
        "id": "Q7sluO32Vfnk"
      },
      "execution_count": null,
      "outputs": []
    },
    {
      "cell_type": "code",
      "source": [
        "early_stopping = tf.keras.callbacks.EarlyStopping(monitor=\"val_accuracy\",patience=3)\n",
        "\n",
        "def train_model():\n",
        "  #create model\n",
        "  model = create_model()\n",
        "\n",
        "  #create new Tensorboard sessions everytime model is trained\n",
        "  tensorboard = create_tensorboard_callback()\n",
        "\n",
        "  #fit model to data passing through callbacks we created\n",
        "  model.fit(x= train_data, epochs = 50,validation_data=val_data,\n",
        "            validation_freq=1, callbacks=[tensorboard, early_stopping])\n",
        "  return model"
      ],
      "metadata": {
        "id": "wTwxm_3lVxMp"
      },
      "execution_count": null,
      "outputs": []
    },
    {
      "cell_type": "code",
      "source": [
        "model = train_model()"
      ],
      "metadata": {
        "colab": {
          "base_uri": "https://localhost:8080/"
        },
        "id": "1pBkimcxV72q",
        "outputId": "d3248115-cca3-4205-86db-ddca510fc0f2"
      },
      "execution_count": null,
      "outputs": [
        {
          "output_type": "stream",
          "name": "stdout",
          "text": [
            "building model with:  https://tfhub.dev/google/imagenet/mobilenet_v2_130_224/classification/5\n",
            "Epoch 1/50\n",
            "25/25 [==============================] - 111s 4s/step - loss: 4.5951 - accuracy: 0.0925 - val_loss: 3.5249 - val_accuracy: 0.2700\n",
            "Epoch 2/50\n",
            "25/25 [==============================] - 4s 150ms/step - loss: 1.6468 - accuracy: 0.6825 - val_loss: 2.2314 - val_accuracy: 0.4950\n",
            "Epoch 3/50\n",
            "25/25 [==============================] - 3s 124ms/step - loss: 0.5680 - accuracy: 0.9425 - val_loss: 1.7519 - val_accuracy: 0.5350\n",
            "Epoch 4/50\n",
            "25/25 [==============================] - 3s 123ms/step - loss: 0.2499 - accuracy: 0.9912 - val_loss: 1.5498 - val_accuracy: 0.6100\n",
            "Epoch 5/50\n",
            "25/25 [==============================] - 3s 125ms/step - loss: 0.1441 - accuracy: 0.9987 - val_loss: 1.4605 - val_accuracy: 0.6250\n",
            "Epoch 6/50\n",
            "25/25 [==============================] - 4s 151ms/step - loss: 0.0994 - accuracy: 1.0000 - val_loss: 1.4174 - val_accuracy: 0.6350\n",
            "Epoch 7/50\n",
            "25/25 [==============================] - 4s 148ms/step - loss: 0.0738 - accuracy: 1.0000 - val_loss: 1.3862 - val_accuracy: 0.6350\n",
            "Epoch 8/50\n",
            "25/25 [==============================] - 4s 148ms/step - loss: 0.0592 - accuracy: 1.0000 - val_loss: 1.3568 - val_accuracy: 0.6400\n",
            "Epoch 9/50\n",
            "25/25 [==============================] - 3s 125ms/step - loss: 0.0486 - accuracy: 1.0000 - val_loss: 1.3414 - val_accuracy: 0.6500\n",
            "Epoch 10/50\n",
            "25/25 [==============================] - 3s 122ms/step - loss: 0.0410 - accuracy: 1.0000 - val_loss: 1.3244 - val_accuracy: 0.6600\n",
            "Epoch 11/50\n",
            "25/25 [==============================] - 3s 125ms/step - loss: 0.0354 - accuracy: 1.0000 - val_loss: 1.3121 - val_accuracy: 0.6650\n",
            "Epoch 12/50\n",
            "25/25 [==============================] - 4s 148ms/step - loss: 0.0307 - accuracy: 1.0000 - val_loss: 1.3013 - val_accuracy: 0.6750\n",
            "Epoch 13/50\n",
            "25/25 [==============================] - 4s 151ms/step - loss: 0.0271 - accuracy: 1.0000 - val_loss: 1.2935 - val_accuracy: 0.6700\n",
            "Epoch 14/50\n",
            "25/25 [==============================] - 3s 123ms/step - loss: 0.0242 - accuracy: 1.0000 - val_loss: 1.2839 - val_accuracy: 0.6750\n",
            "Epoch 15/50\n",
            "25/25 [==============================] - 3s 120ms/step - loss: 0.0218 - accuracy: 1.0000 - val_loss: 1.2763 - val_accuracy: 0.6600\n"
          ]
        }
      ]
    },
    {
      "cell_type": "code",
      "source": [
        ""
      ],
      "metadata": {
        "id": "PVMje7ZSV8jI"
      },
      "execution_count": null,
      "outputs": []
    }
  ]
}